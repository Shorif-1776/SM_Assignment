{
  "nbformat": 4,
  "nbformat_minor": 0,
  "metadata": {
    "colab": {
      "provenance": [],
      "include_colab_link": true
    },
    "kernelspec": {
      "name": "python3",
      "display_name": "Python 3"
    },
    "language_info": {
      "name": "python"
    }
  },
  "cells": [
    {
      "cell_type": "markdown",
      "metadata": {
        "id": "view-in-github",
        "colab_type": "text"
      },
      "source": [
        "<a href=\"https://colab.research.google.com/github/Shorif-1776/SM_Assignment/blob/main/Assignment_3_NumPy_and_Pandas_for_Data_Science.ipynb\" target=\"_parent\"><img src=\"https://colab.research.google.com/assets/colab-badge.svg\" alt=\"Open In Colab\"/></a>"
      ]
    },
    {
      "cell_type": "code",
      "execution_count": 1,
      "metadata": {
        "id": "VRE1K5KXdhYS",
        "colab": {
          "base_uri": "https://localhost:8080/",
          "height": 107
        },
        "outputId": "3155ea16-0a99-476f-9562-d9cb46a0ab99"
      },
      "outputs": [
        {
          "output_type": "execute_result",
          "data": {
            "text/plain": [
              "'\\nStudent Performance Dataset Analysis\\nDataset Information\\nStudent Performance Dataset (StudentsPerformance.csv)\\n\\n1000 students with academic performance data\\n8 columns: gender, race/ethnicity, parental level of education, lunch, test preparation course, math score, reading score, writing score\\nScore Range: 0-100 for each subject\\nDemographics: Male/Female, 5 ethnic groups, 6 education levels, standard/free lunch, test prep completed/none\\n'"
            ],
            "application/vnd.google.colaboratory.intrinsic+json": {
              "type": "string"
            }
          },
          "metadata": {},
          "execution_count": 1
        }
      ],
      "source": [
        "\"\"\"\n",
        "Student Performance Dataset Analysis\n",
        "Dataset Information\n",
        "Student Performance Dataset (StudentsPerformance.csv)\n",
        "\n",
        "1000 students with academic performance data\n",
        "8 columns: gender, race/ethnicity, parental level of education, lunch, test preparation course, math score, reading score, writing score\n",
        "Score Range: 0-100 for each subject\n",
        "Demographics: Male/Female, 5 ethnic groups, 6 education levels, standard/free lunch, test prep completed/none\n",
        "\"\"\""
      ]
    },
    {
      "cell_type": "code",
      "source": [
        "#Task 1.1: Data Loading and Exploration\n",
        "import numpy as np\n",
        "import pandas as pd\n",
        "\n",
        "# Load the dataset\n",
        "df = pd.read_csv('StudentsPerformance.csv')\n",
        "\n",
        "# Your tasks:\n",
        "# 1. Display first 10 rows\n",
        "# 2. Show dataset shape and info()\n",
        "# 3. Display unique values in each categorical column\n",
        "# 4. Show basic statistics for all score columns\n",
        "\n",
        "# Your code here:\n",
        "# Display first 10 rows\n",
        "print(df.head(10))\n",
        "\n",
        "# Show dataset shape and info()\n",
        "print(df.shape)\n",
        "print(df.info())\n",
        "\n",
        "# Display unique values in each categorical column\n",
        "print(df['gender'].unique())\n",
        "print(df['race/ethnicity'].unique())\n",
        "print(df['parental level of education'].unique())\n",
        "print(df['lunch'].unique())\n",
        "print(df['test preparation course'].unique())\n",
        "\n",
        "# Show basic statistics for all score columns\n",
        "print(df.describe())"
      ],
      "metadata": {
        "id": "Agxhn5_4eTuI",
        "colab": {
          "base_uri": "https://localhost:8080/"
        },
        "outputId": "b51b65fb-da8b-4b38-d26a-b8d9266b011c"
      },
      "execution_count": 5,
      "outputs": [
        {
          "output_type": "stream",
          "name": "stdout",
          "text": [
            "   gender race/ethnicity parental level of education         lunch  \\\n",
            "0  female        group B           bachelor's degree      standard   \n",
            "1  female        group C                some college      standard   \n",
            "2  female        group B             master's degree      standard   \n",
            "3    male        group A          associate's degree  free/reduced   \n",
            "4    male        group C                some college      standard   \n",
            "5  female        group B          associate's degree      standard   \n",
            "6  female        group B                some college      standard   \n",
            "7    male        group B                some college  free/reduced   \n",
            "8    male        group D                 high school  free/reduced   \n",
            "9  female        group B                 high school  free/reduced   \n",
            "\n",
            "  test preparation course  math score  reading score  writing score  \n",
            "0                    none          72             72             74  \n",
            "1               completed          69             90             88  \n",
            "2                    none          90             95             93  \n",
            "3                    none          47             57             44  \n",
            "4                    none          76             78             75  \n",
            "5                    none          71             83             78  \n",
            "6               completed          88             95             92  \n",
            "7                    none          40             43             39  \n",
            "8               completed          64             64             67  \n",
            "9                    none          38             60             50  \n",
            "(1000, 8)\n",
            "<class 'pandas.core.frame.DataFrame'>\n",
            "RangeIndex: 1000 entries, 0 to 999\n",
            "Data columns (total 8 columns):\n",
            " #   Column                       Non-Null Count  Dtype \n",
            "---  ------                       --------------  ----- \n",
            " 0   gender                       1000 non-null   object\n",
            " 1   race/ethnicity               1000 non-null   object\n",
            " 2   parental level of education  1000 non-null   object\n",
            " 3   lunch                        1000 non-null   object\n",
            " 4   test preparation course      1000 non-null   object\n",
            " 5   math score                   1000 non-null   int64 \n",
            " 6   reading score                1000 non-null   int64 \n",
            " 7   writing score                1000 non-null   int64 \n",
            "dtypes: int64(3), object(5)\n",
            "memory usage: 62.6+ KB\n",
            "None\n",
            "['female' 'male']\n",
            "['group B' 'group C' 'group A' 'group D' 'group E']\n",
            "[\"bachelor's degree\" 'some college' \"master's degree\" \"associate's degree\"\n",
            " 'high school' 'some high school']\n",
            "['standard' 'free/reduced']\n",
            "['none' 'completed']\n",
            "       math score  reading score  writing score\n",
            "count  1000.00000    1000.000000    1000.000000\n",
            "mean     66.08900      69.169000      68.054000\n",
            "std      15.16308      14.600192      15.195657\n",
            "min       0.00000      17.000000      10.000000\n",
            "25%      57.00000      59.000000      57.750000\n",
            "50%      66.00000      70.000000      69.000000\n",
            "75%      77.00000      79.000000      79.000000\n",
            "max     100.00000     100.000000     100.000000\n"
          ]
        }
      ]
    },
    {
      "cell_type": "code",
      "source": [
        "from os import read\n",
        "#Task 1.2: NumPy Array Operations\n",
        "# Convert score columns to numpy arrays\n",
        "math_scores = df['math score'].values\n",
        "reading_scores = df['reading score'].values\n",
        "writing_scores = df['writing score'].values\n",
        "\n",
        "# Your tasks:\n",
        "# 1. Calculate mean, median, std, min, max for each subject using NumPy\n",
        "# 2. Find total students who scored above 80 in math\n",
        "# 3. Find total students who scored below 50 in any subject\n",
        "# 4. Calculate the overall average score across all three subjects\n",
        "\n",
        "# Expected output example:\n",
        "# Math - Mean: 66.1, Median: 66.0, Std: 15.2\n",
        "# Students with math > 80: 132\n",
        "# Students with any score < 50: 178\n",
        "\n",
        "# Your code here:\n",
        "# Calculate mean, median, std, min, max for each subject using NumPy with one digit after decimal\n",
        "# Calculate value with one digit afrer decimal\n",
        "math_mean = np.mean(math_scores)\n",
        "print(math_mean)\n",
        "math_median = np.median(math_scores)\n",
        "print(math_median)\n",
        "math_std = np.std(math_scores)\n",
        "print(math_std)\n",
        "math_min = np.min(math_scores)\n",
        "print(math_min)\n",
        "math_max = np.max(math_scores)\n",
        "print(math_max)\n",
        "\n",
        "reading_mean = np.mean(reading_scores)\n",
        "reading_median = np.median(reading_scores)\n",
        "reading_std = np.std(reading_scores)\n",
        "reading_min = np.min(reading_scores)\n",
        "reading_max = np.max(reading_scores)\n",
        "\n",
        "writing_mean = np.mean(writing_scores)\n",
        "writing_median = np.median(writing_scores)\n",
        "writing_std = np.std(writing_scores)\n",
        "writing_min = np.min(writing_scores)\n",
        "writing_max = np.max(writing_scores)\n",
        "\n",
        "# Find total students who scored above 80 in math\n",
        "above_80_math = np.sum(math_scores > 80)\n",
        "print (above_80_math)\n",
        "# Find total students who scored below 50 in any subject\n",
        "below_50 = np.sum((math_scores < 50) | (reading_scores < 50) | (writing_scores < 50))\n",
        "print (below_50)\n",
        "\n"
      ],
      "metadata": {
        "id": "JQzbRZTAefeu",
        "colab": {
          "base_uri": "https://localhost:8080/"
        },
        "outputId": "9289ec8c-0f03-4629-9c61-7deb3ce8ea36"
      },
      "execution_count": 21,
      "outputs": [
        {
          "output_type": "stream",
          "name": "stdout",
          "text": [
            "66.089\n",
            "66.0\n",
            "15.155496659628149\n",
            "0\n",
            "100\n",
            "176\n",
            "188\n"
          ]
        }
      ]
    },
    {
      "cell_type": "code",
      "source": [
        "math_scores"
      ],
      "metadata": {
        "colab": {
          "base_uri": "https://localhost:8080/"
        },
        "id": "tz1qhvS6CKvw",
        "outputId": "3fd9100a-3dc4-4729-dd17-6b1f7fe94922"
      },
      "execution_count": 7,
      "outputs": [
        {
          "output_type": "execute_result",
          "data": {
            "text/plain": [
              "array([ 72,  69,  90,  47,  76,  71,  88,  40,  64,  38,  58,  40,  65,\n",
              "        78,  50,  69,  88,  18,  46,  54,  66,  65,  44,  69,  74,  73,\n",
              "        69,  67,  70,  62,  69,  63,  56,  40,  97,  81,  74,  50,  75,\n",
              "        57,  55,  58,  53,  59,  50,  65,  55,  66,  57,  82,  53,  77,\n",
              "        53,  88,  71,  33,  82,  52,  58,   0,  79,  39,  62,  69,  59,\n",
              "        67,  45,  60,  61,  39,  58,  63,  41,  61,  49,  44,  30,  80,\n",
              "        61,  62,  47,  49,  50,  72,  42,  73,  76,  71,  58,  73,  65,\n",
              "        27,  71,  43,  79,  78,  65,  63,  58,  65,  79,  68,  85,  60,\n",
              "        98,  58,  87,  66,  52,  70,  77,  62,  54,  51,  99,  84,  75,\n",
              "        78,  51,  55,  79,  91,  88,  63,  83,  87,  72,  65,  82,  51,\n",
              "        89,  53,  87,  75,  74,  58,  51,  70,  59,  71,  76,  59,  42,\n",
              "        57,  88,  22,  88,  73,  68, 100,  62,  77,  59,  54,  62,  70,\n",
              "        66,  60,  61,  66,  82,  75,  49,  52,  81,  96,  53,  58,  68,\n",
              "        67,  72,  94,  79,  63,  43,  81,  46,  71,  52,  97,  62,  46,\n",
              "        50,  65,  45,  65,  80,  62,  48,  77,  66,  76,  62,  77,  69,\n",
              "        61,  59,  55,  45,  78,  67,  65,  69,  57,  59,  74,  82,  81,\n",
              "        74,  58,  80,  35,  42,  60,  87,  84,  83,  34,  66,  61,  56,\n",
              "        87,  55,  86,  52,  45,  72,  57,  68,  88,  76,  46,  67,  92,\n",
              "        83,  80,  63,  64,  54,  84,  73,  80,  56,  59,  75,  85,  89,\n",
              "        58,  65,  68,  47,  71,  60,  80,  54,  62,  64,  78,  70,  65,\n",
              "        64,  79,  44,  99,  76,  59,  63,  69,  88,  71,  69,  58,  47,\n",
              "        65,  88,  83,  85,  59,  65,  73,  53,  45,  73,  70,  37,  81,\n",
              "        97,  67,  88,  77,  76,  86,  63,  65,  78,  67,  46,  71,  40,\n",
              "        90,  81,  56,  67,  80,  74,  69,  99,  51,  53,  49,  73,  66,\n",
              "        67,  68,  59,  71,  77,  83,  63,  56,  67,  75,  71,  43,  41,\n",
              "        82,  61,  28,  82,  41,  71,  47,  62,  90,  83,  61,  76,  49,\n",
              "        24,  35,  58,  61,  69,  67,  79,  72,  62,  77,  75,  87,  52,\n",
              "        66,  63,  46,  59,  61,  63,  42,  59,  80,  58,  85,  52,  27,\n",
              "        59,  49,  69,  61,  44,  73,  84,  45,  74,  82,  59,  46,  80,\n",
              "        85,  71,  66,  80,  87,  79,  38,  38,  67,  64,  57,  62,  73,\n",
              "        73,  77,  76,  57,  65,  48,  50,  85,  74,  60,  59,  53,  49,\n",
              "        88,  54,  63,  65,  82,  52,  87,  70,  84,  71,  63,  51,  84,\n",
              "        71,  74,  68,  57,  82,  57,  47,  59,  41,  62,  86,  69,  65,\n",
              "        68,  64,  61,  61,  47,  73,  50,  75,  75,  70,  89,  67,  78,\n",
              "        59,  73,  79,  67,  69,  86,  47,  81,  64, 100,  65,  65,  53,\n",
              "        37,  79,  53, 100,  72,  53,  54,  71,  77,  75,  84,  26,  72,\n",
              "        77,  91,  83,  63,  68,  59,  90,  71,  76,  80,  55,  76,  73,\n",
              "        52,  68,  59,  49,  70,  61,  60,  64,  79,  65,  64,  83,  81,\n",
              "        54,  68,  54,  59,  66,  76,  74,  94,  63,  95,  40,  82,  68,\n",
              "        55,  79,  86,  76,  64,  62,  54,  77,  76,  74,  66,  66,  67,\n",
              "        71,  91,  69,  54,  53,  68,  56,  36,  29,  62,  68,  47,  62,\n",
              "        79,  73,  66,  51,  51,  85,  97,  75,  79,  81,  82,  64,  78,\n",
              "        92,  72,  62,  79,  79,  87,  40,  77,  53,  32,  55,  61,  53,\n",
              "        73,  74,  63,  96,  63,  48,  48,  92,  61,  63,  68,  71,  91,\n",
              "        53,  50,  74,  40,  61,  81,  48,  53,  81,  77,  63,  73,  69,\n",
              "        65,  55,  44,  54,  48,  58,  71,  68,  74,  92,  56,  30,  53,\n",
              "        69,  65,  54,  29,  76,  60,  84,  75,  85,  40,  61,  58,  69,\n",
              "        58,  94,  65,  82,  60,  37,  88,  95,  65,  35,  62,  58, 100,\n",
              "        61, 100,  69,  61,  49,  44,  67,  79,  66,  75,  84,  71,  67,\n",
              "        80,  86,  76,  41,  74,  72,  74,  70,  65,  59,  64,  50,  69,\n",
              "        51,  68,  85,  65,  73,  62,  77,  69,  43,  90,  74,  73,  55,\n",
              "        65,  80,  50,  63,  77,  73,  81,  66,  52,  69,  65,  69,  50,\n",
              "        73,  70,  81,  63,  67,  60,  62,  29,  62,  94,  85,  77,  53,\n",
              "        93,  49,  73,  66,  77,  49,  79,  75,  59,  57,  66,  79,  57,\n",
              "        87,  63,  59,  62,  46,  66,  89,  42,  93,  80,  98,  81,  60,\n",
              "        76,  73,  96,  76,  91,  62,  55,  74,  50,  47,  81,  65,  68,\n",
              "        73,  53,  68,  55,  87,  55,  53,  67,  92,  53,  81,  61,  80,\n",
              "        37,  81,  59,  55,  72,  69,  69,  50,  87,  71,  68,  79,  77,\n",
              "        58,  84,  55,  70,  52,  69,  53,  48,  78,  62,  60,  74,  58,\n",
              "        76,  68,  58,  52,  75,  52,  62,  66,  49,  66,  35,  72,  94,\n",
              "        46,  77,  76,  52,  91,  32,  72,  19,  68,  52,  48,  60,  66,\n",
              "        89,  42,  57,  70,  70,  69,  52,  67,  76,  87,  82,  73,  75,\n",
              "        64,  41,  90,  59,  51,  45,  54,  87,  72,  94,  45,  61,  60,\n",
              "        77,  85,  78,  49,  71,  48,  62,  56,  65,  69,  68,  61,  74,\n",
              "        64,  77,  58,  60,  73,  75,  58,  66,  39,  64,  23,  74,  40,\n",
              "        90,  91,  64,  59,  80,  71,  61,  87,  82,  62,  97,  75,  65,\n",
              "        52,  87,  53,  81,  39,  71,  97,  82,  59,  61,  78,  49,  59,\n",
              "        70,  82,  90,  43,  80,  81,  57,  59,  64,  63,  71,  64,  55,\n",
              "        51,  62,  93,  54,  69,  44,  86,  85,  50,  88,  59,  32,  36,\n",
              "        63,  67,  65,  85,  73,  34,  93,  67,  88,  57,  79,  67,  70,\n",
              "        50,  69,  52,  47,  46,  68, 100,  44,  57,  91,  69,  35,  72,\n",
              "        54,  74,  74,  64,  65,  46,  48,  67,  62,  61,  70,  98,  70,\n",
              "        67,  57,  85,  77,  72,  78,  81,  61,  58,  54,  82,  49,  49,\n",
              "        57,  94,  75,  74,  58,  62,  72,  84,  92,  45,  75,  56,  48,\n",
              "       100,  65,  72,  62,  66,  63,  68,  75,  89,  78,  53,  49,  54,\n",
              "        64,  60,  62,  55,  91,   8,  81,  79,  78,  74,  57,  40,  81,\n",
              "        44,  67,  86,  65,  55,  62,  63,  88,  62,  59,  68,  77])"
            ]
          },
          "metadata": {},
          "execution_count": 7
        }
      ]
    },
    {
      "cell_type": "code",
      "source": [
        "# Task 2.1: Identify and Handle Missing Data\n",
        "# Check the dataset for any missing values\n",
        "# Your tasks:\n",
        "# 1. Check for null values in each column using .isnull().sum()\n",
        "# 2. Check for any impossible values (scores > 100 or < 0)\n",
        "# 3. Display summary of data quality\n",
        "\n",
        "# Note: This dataset is clean, but let's verify!\n",
        "\n",
        "# Your code here:\n",
        "# Check the dataset for any missing values\n",
        "print(df.isnull().sum())\n",
        "\n",
        "# Check for any impossible values (scores > 100 or < 0)\n",
        "impossible = np.sum((math_scores > 100) | (math_scores < 0) |\n",
        "                    (reading_scores > 100) | (reading_scores < 0) |\n",
        "                    (writing_scores > 100) | (writing_scores < 0))\n",
        "print(impossible)\n",
        "\n",
        "# Display summary of data quality\n",
        "print(df.info())\n"
      ],
      "metadata": {
        "id": "jxHdNzGeexDI",
        "colab": {
          "base_uri": "https://localhost:8080/"
        },
        "outputId": "5508dee7-87d7-42e2-d5f6-9b93cc7e7274"
      },
      "execution_count": 24,
      "outputs": [
        {
          "output_type": "stream",
          "name": "stdout",
          "text": [
            "gender                         0\n",
            "race/ethnicity                 0\n",
            "parental level of education    0\n",
            "lunch                          0\n",
            "test preparation course        0\n",
            "math score                     0\n",
            "reading score                  0\n",
            "writing score                  0\n",
            "dtype: int64\n",
            "0\n",
            "<class 'pandas.core.frame.DataFrame'>\n",
            "RangeIndex: 1000 entries, 0 to 999\n",
            "Data columns (total 8 columns):\n",
            " #   Column                       Non-Null Count  Dtype \n",
            "---  ------                       --------------  ----- \n",
            " 0   gender                       1000 non-null   object\n",
            " 1   race/ethnicity               1000 non-null   object\n",
            " 2   parental level of education  1000 non-null   object\n",
            " 3   lunch                        1000 non-null   object\n",
            " 4   test preparation course      1000 non-null   object\n",
            " 5   math score                   1000 non-null   int64 \n",
            " 6   reading score                1000 non-null   int64 \n",
            " 7   writing score                1000 non-null   int64 \n",
            "dtypes: int64(3), object(5)\n",
            "memory usage: 62.6+ KB\n",
            "None\n"
          ]
        }
      ]
    },
    {
      "cell_type": "code",
      "source": [
        "#Task 2.2: Create and Fix Missing Value\n",
        "# Artificially create missing data for practice\n",
        "# import numpy as np\n",
        "\n",
        "# Your tasks:\n",
        "# 1. Make a copy of the dataset: df_practice = df.copy()\n",
        "# 2. Randomly set 50 math scores to np.nan\n",
        "# 3. Randomly set 30 writing scores to np.nan\n",
        "# 4. Fill missing math scores with the MEDIAN math score\n",
        "# 5. Fill missing writing scores with the MEAN writing score\n",
        "# 6. Verify no missing values remain\n",
        "\n",
        "# Steps to follow:\n",
        "# Step 1: Create copy and show original missing values\n",
        "df_practice = df.copy()\n",
        "print(\"Original missing values:\", df_practice.isnull().sum())\n",
        "\n",
        "# Step 2: Create missing data\n",
        "np.random.seed(42)  # For reproducible results\n",
        "missing_math_idx = np.random.choice(df_practice.index, 50, replace=False)\n",
        "missing_writing_idx = np.random.choice(df_practice.index, 30, replace=False)\n",
        "\n",
        "# Continue the task...\n",
        "# Your code here:\n",
        "# Randomly set 50 math scores to np.nan\n",
        "df_practice.loc[missing_math_idx, 'math score'] = np.nan\n",
        "\n",
        "# Randomly set 30 writing scores to np.nan\n",
        "df_practice.loc[missing_writing_idx, 'writing score'] = np.nan\n",
        "\n",
        "df_practice.isnull().sum()\n",
        "\n",
        "\n",
        "\n",
        "\n"
      ],
      "metadata": {
        "id": "gjwOKcwLe9vC",
        "colab": {
          "base_uri": "https://localhost:8080/",
          "height": 496
        },
        "outputId": "3c9d8443-28c8-4ff5-a76f-d7bd75927cfd"
      },
      "execution_count": 30,
      "outputs": [
        {
          "output_type": "stream",
          "name": "stdout",
          "text": [
            "Original missing values: gender                         0\n",
            "race/ethnicity                 0\n",
            "parental level of education    0\n",
            "lunch                          0\n",
            "test preparation course        0\n",
            "math score                     0\n",
            "reading score                  0\n",
            "writing score                  0\n",
            "dtype: int64\n"
          ]
        },
        {
          "output_type": "execute_result",
          "data": {
            "text/plain": [
              "gender                          0\n",
              "race/ethnicity                  0\n",
              "parental level of education     0\n",
              "lunch                           0\n",
              "test preparation course         0\n",
              "math score                     50\n",
              "reading score                   0\n",
              "writing score                  30\n",
              "dtype: int64"
            ],
            "text/html": [
              "<div>\n",
              "<style scoped>\n",
              "    .dataframe tbody tr th:only-of-type {\n",
              "        vertical-align: middle;\n",
              "    }\n",
              "\n",
              "    .dataframe tbody tr th {\n",
              "        vertical-align: top;\n",
              "    }\n",
              "\n",
              "    .dataframe thead th {\n",
              "        text-align: right;\n",
              "    }\n",
              "</style>\n",
              "<table border=\"1\" class=\"dataframe\">\n",
              "  <thead>\n",
              "    <tr style=\"text-align: right;\">\n",
              "      <th></th>\n",
              "      <th>0</th>\n",
              "    </tr>\n",
              "  </thead>\n",
              "  <tbody>\n",
              "    <tr>\n",
              "      <th>gender</th>\n",
              "      <td>0</td>\n",
              "    </tr>\n",
              "    <tr>\n",
              "      <th>race/ethnicity</th>\n",
              "      <td>0</td>\n",
              "    </tr>\n",
              "    <tr>\n",
              "      <th>parental level of education</th>\n",
              "      <td>0</td>\n",
              "    </tr>\n",
              "    <tr>\n",
              "      <th>lunch</th>\n",
              "      <td>0</td>\n",
              "    </tr>\n",
              "    <tr>\n",
              "      <th>test preparation course</th>\n",
              "      <td>0</td>\n",
              "    </tr>\n",
              "    <tr>\n",
              "      <th>math score</th>\n",
              "      <td>50</td>\n",
              "    </tr>\n",
              "    <tr>\n",
              "      <th>reading score</th>\n",
              "      <td>0</td>\n",
              "    </tr>\n",
              "    <tr>\n",
              "      <th>writing score</th>\n",
              "      <td>30</td>\n",
              "    </tr>\n",
              "  </tbody>\n",
              "</table>\n",
              "</div><br><label><b>dtype:</b> int64</label>"
            ]
          },
          "metadata": {},
          "execution_count": 30
        }
      ]
    },
    {
      "cell_type": "code",
      "source": [
        "#Task 3.1:Answer Simple Questions About Student Performance\n",
        "# Your tasks:\n",
        "# 1. Display first 5 rows using .head()\n",
        "\n",
        "\n",
        "# 2. Display last 5 rows using .tail()\n",
        "# 3. Show dataset shape using .shape\n",
        "# 4. Show column names using .columns\n",
        "# 5. Show data types using .dtypes\n",
        "# 6. Show basic info using .info()\n",
        "\n",
        "# Your code here:\n",
        "# Display first 5 rows using .head()\n",
        "print(df.head())\n",
        "\n",
        "# Display last 5 rows using .tail()\n",
        "print(df.tail())\n",
        "\n",
        "# Show dataset shape using .shape\n",
        "print(df.shape)\n",
        "\n",
        "# Show column names using .columns\n",
        "print(df.columns)\n",
        "\n",
        "# Show data types using .dtypes\n",
        "print(df.dtypes)\n",
        "\n",
        "# Show basic info using .info()\n",
        "print(df.info())"
      ],
      "metadata": {
        "id": "ijhkTUFqgnaG",
        "colab": {
          "base_uri": "https://localhost:8080/"
        },
        "outputId": "d1a9e738-0828-449c-ea26-2b01944b57ce"
      },
      "execution_count": 33,
      "outputs": [
        {
          "output_type": "stream",
          "name": "stdout",
          "text": [
            "   gender race/ethnicity parental level of education         lunch  \\\n",
            "0  female        group B           bachelor's degree      standard   \n",
            "1  female        group C                some college      standard   \n",
            "2  female        group B             master's degree      standard   \n",
            "3    male        group A          associate's degree  free/reduced   \n",
            "4    male        group C                some college      standard   \n",
            "\n",
            "  test preparation course  math score  reading score  writing score  \n",
            "0                    none          72             72             74  \n",
            "1               completed          69             90             88  \n",
            "2                    none          90             95             93  \n",
            "3                    none          47             57             44  \n",
            "4                    none          76             78             75  \n",
            "     gender race/ethnicity parental level of education         lunch  \\\n",
            "995  female        group E             master's degree      standard   \n",
            "996    male        group C                 high school  free/reduced   \n",
            "997  female        group C                 high school  free/reduced   \n",
            "998  female        group D                some college      standard   \n",
            "999  female        group D                some college  free/reduced   \n",
            "\n",
            "    test preparation course  math score  reading score  writing score  \n",
            "995               completed          88             99             95  \n",
            "996                    none          62             55             55  \n",
            "997               completed          59             71             65  \n",
            "998               completed          68             78             77  \n",
            "999                    none          77             86             86  \n",
            "(1000, 8)\n",
            "Index(['gender', 'race/ethnicity', 'parental level of education', 'lunch',\n",
            "       'test preparation course', 'math score', 'reading score',\n",
            "       'writing score'],\n",
            "      dtype='object')\n",
            "gender                         object\n",
            "race/ethnicity                 object\n",
            "parental level of education    object\n",
            "lunch                          object\n",
            "test preparation course        object\n",
            "math score                      int64\n",
            "reading score                   int64\n",
            "writing score                   int64\n",
            "dtype: object\n",
            "<class 'pandas.core.frame.DataFrame'>\n",
            "RangeIndex: 1000 entries, 0 to 999\n",
            "Data columns (total 8 columns):\n",
            " #   Column                       Non-Null Count  Dtype \n",
            "---  ------                       --------------  ----- \n",
            " 0   gender                       1000 non-null   object\n",
            " 1   race/ethnicity               1000 non-null   object\n",
            " 2   parental level of education  1000 non-null   object\n",
            " 3   lunch                        1000 non-null   object\n",
            " 4   test preparation course      1000 non-null   object\n",
            " 5   math score                   1000 non-null   int64 \n",
            " 6   reading score                1000 non-null   int64 \n",
            " 7   writing score                1000 non-null   int64 \n",
            "dtypes: int64(3), object(5)\n",
            "memory usage: 62.6+ KB\n",
            "None\n"
          ]
        }
      ]
    },
    {
      "cell_type": "code",
      "source": [
        "#Task 3.2: Basic Groupby Analysis\n",
        "# Comprehensive groupby analysis\n",
        "# Your tasks:\n",
        "\n",
        "# 1. Group by 'gender' and calculate:\n",
        "#    - Average scores in all subjects\n",
        "#    - Count of students\n",
        "\n",
        "\n",
        "# 2. Group by 'test preparation course' and show:\n",
        "#    - Mean scores for each subject\n",
        "#    - Show which subject benefits most from test prep\n",
        "\n",
        "# 3. Group by 'parental level of education' and calculate:\n",
        "#    - Average math score for each education level\n",
        "#    - Rank education levels by math performance\n",
        "\n",
        "# 4. Group by 'lunch' type and show:\n",
        "#    - Average scores for each subject\n",
        "#    - Count of students in each lunch category\n",
        "\n",
        "# Your code here:\n",
        "# Group by 'gender' and calculate:\n",
        "# Average scores in all subjects\n",
        "# Count of students\n",
        "gender_stats = df.groupby('gender').agg({\n",
        "    'math score': ['mean', 'count'],\n",
        "    'reading score': ['mean', 'count'],\n",
        "    'writing score': ['mean', 'count']\n",
        "})\n",
        "print(gender_stats)\n",
        "\n",
        "# Group by 'test preparation course' and show:\n",
        "# Mean scores for each subject\n",
        "# Show which subject benefits most from test prep\n",
        "test_prep_stats = df.groupby('test preparation course').agg({\n",
        "    'math score': 'mean',\n",
        "    'reading score': 'mean',\n",
        "    'writing score': 'mean'\n",
        "})\n",
        "print(test_prep_stats)\n",
        "\n",
        "# Group by 'parental level of education' and calculate:\n",
        "#    - Average math score for each education level\n",
        "#    - Rank education levels by math performance\n",
        "parental_education_stats = df.groupby('parental level of education')['math score'].mean().sort_values(ascending=False)\n",
        "print(parental_education_stats)\n",
        "\n",
        "# 4. Group by 'lunch' type and show:\n",
        "#    - Average scores for each subject\n",
        "#    - Count of students in each lunch category\n",
        "\n",
        "lunch_stats = df.groupby('lunch').agg({\n",
        "    'math score': ['mean', 'count'],\n",
        "    'reading score': ['mean', 'count'],\n",
        "    'writing score': ['mean', 'count']\n",
        "})\n",
        "print(lunch_stats)"
      ],
      "metadata": {
        "id": "eW-bxo9SfNFC",
        "colab": {
          "base_uri": "https://localhost:8080/"
        },
        "outputId": "bf9110bd-4641-49c7-e028-039e23240b18"
      },
      "execution_count": 37,
      "outputs": [
        {
          "output_type": "stream",
          "name": "stdout",
          "text": [
            "       math score       reading score       writing score      \n",
            "             mean count          mean count          mean count\n",
            "gender                                                         \n",
            "female  63.633205   518     72.608108   518     72.467181   518\n",
            "male    68.728216   482     65.473029   482     63.311203   482\n",
            "                         math score  reading score  writing score\n",
            "test preparation course                                          \n",
            "completed                 69.695531      73.893855      74.418994\n",
            "none                      64.077882      66.534268      64.504673\n",
            "parental level of education\n",
            "master's degree       69.745763\n",
            "bachelor's degree     69.389831\n",
            "associate's degree    67.882883\n",
            "some college          67.128319\n",
            "some high school      63.497207\n",
            "high school           62.137755\n",
            "Name: math score, dtype: float64\n",
            "             math score       reading score       writing score      \n",
            "                   mean count          mean count          mean count\n",
            "lunch                                                                \n",
            "free/reduced  58.921127   355     64.653521   355     63.022535   355\n",
            "standard      70.034109   645     71.654264   645     70.823256   645\n"
          ]
        }
      ]
    },
    {
      "cell_type": "code",
      "source": [
        "#Task 3.3: Use your data analysis skills to answer these easy questions:\n",
        "\n",
        "# 1. Who performs better in math - males or females?\n",
        "#    - Calculate average math score by gender\n",
        "#    - Show the difference between male and female average\n",
        "\n",
        "\n",
        "\n",
        "# 2. Which subject do students perform best in overall?\n",
        "#    - Calculate the overall average for math, reading, and writing\n",
        "#    - Rank the subjects from highest to lowest average score\n",
        "\n",
        "# 3. What's the impact of parental education?\n",
        "#    - Find the average total score for each parental education level\n",
        "#    - Identify which education level leads to highest student performance\n",
        "\n",
        "\n",
        "# Who performs better in math - males or females?\n",
        "gender_math_stats = df.groupby('gender')['math score'].mean()\n",
        "print(gender_math_stats)\n",
        "\n",
        "# Calculate average math score by gender\n",
        "average_math_by_gender = df.groupby('gender')['math score'].mean()\n",
        "print(average_math_by_gender)\n",
        "\n",
        "# Show the difference between male and female average\n",
        "difference_by_gender = average_math_by_gender['male'] - average_math_by_gender['female']\n",
        "print(difference_by_gender)\n",
        "\n",
        "\n",
        "# Rank the subjects from highest to lowest average score\n"
      ],
      "metadata": {
        "id": "EXQhAbVRg_a_",
        "colab": {
          "base_uri": "https://localhost:8080/"
        },
        "outputId": "db2e0baf-7f3e-45dd-d9db-2aee6b10ce9e"
      },
      "execution_count": 41,
      "outputs": [
        {
          "output_type": "stream",
          "name": "stdout",
          "text": [
            "gender\n",
            "female    63.633205\n",
            "male      68.728216\n",
            "Name: math score, dtype: float64\n",
            "gender\n",
            "female    63.633205\n",
            "male      68.728216\n",
            "Name: math score, dtype: float64\n",
            "5.095011134430216\n"
          ]
        }
      ]
    },
    {
      "cell_type": "code",
      "source": [
        "# Which subject do students perform best in overall?\n",
        "# Calculate the overall average for math, reading, and writing\n",
        "overall_average = df[['math score', 'reading score', 'writing score']].mean()\n",
        "print(overall_average)\n",
        "\n",
        "# Rank the subjects from highest to lowest average score\n",
        "overall_average_sorted = overall_average.sort_values(ascending=False)\n",
        "print(overall_average_sorted)\n",
        "\n"
      ],
      "metadata": {
        "colab": {
          "base_uri": "https://localhost:8080/"
        },
        "id": "EfYcgKj0MZAu",
        "outputId": "bc2f2285-3c47-4daa-d4e8-4b9ad214b3c8"
      },
      "execution_count": 43,
      "outputs": [
        {
          "output_type": "stream",
          "name": "stdout",
          "text": [
            "math score       66.089\n",
            "reading score    69.169\n",
            "writing score    68.054\n",
            "dtype: float64\n",
            "reading score    69.169\n",
            "writing score    68.054\n",
            "math score       66.089\n",
            "dtype: float64\n"
          ]
        }
      ]
    },
    {
      "cell_type": "code",
      "source": [
        "# What's the impact of parental education?\n",
        "# Find the average total score for each parental education level\n",
        "df['total score'] = df['math score'] + df['reading score'] + df['writing score']\n",
        "parental_education_total_score = df.groupby('parental level of education')['total score'].mean().sort_values(ascending=False)\n",
        "print(parental_education_total_score)\n",
        "\n",
        "# Identify which education level leads to highest student performance\n",
        "print(f\"\\nThe education level that leads to the highest student performance is: {parental_education_total_score.index[0]} with an average total score of {parental_education_total_score.iloc[0]:.2f}\")\n",
        "\n",
        "\n"
      ],
      "metadata": {
        "colab": {
          "base_uri": "https://localhost:8080/"
        },
        "id": "wNiZTbKcNkds",
        "outputId": "769a5e26-94b6-4bdc-d399-853671c12f59"
      },
      "execution_count": 44,
      "outputs": [
        {
          "output_type": "stream",
          "name": "stdout",
          "text": [
            "parental level of education\n",
            "master's degree       220.796610\n",
            "bachelor's degree     215.771186\n",
            "associate's degree    208.707207\n",
            "some college          205.429204\n",
            "some high school      195.324022\n",
            "high school           189.290816\n",
            "Name: total score, dtype: float64\n",
            "\n",
            "The education level that leads to the highest student performance is: master's degree with an average total score of 220.80\n"
          ]
        }
      ]
    },
    {
      "cell_type": "code",
      "source": [
        "# Identify which education level leads to highest student performance\n",
        "print(f\"\\nThe education level that leads to the highest student performance is: {parental_education_total_score.index[0]} with an average total score of {parental_education_total_score.iloc[0]:.2f}\")"
      ],
      "metadata": {
        "colab": {
          "base_uri": "https://localhost:8080/"
        },
        "id": "iZNgmAtdPr7y",
        "outputId": "870daf11-5c7e-4905-d141-a2b685706c58"
      },
      "execution_count": 45,
      "outputs": [
        {
          "output_type": "stream",
          "name": "stdout",
          "text": [
            "\n",
            "The education level that leads to the highest student performance is: master's degree with an average total score of 220.80\n"
          ]
        }
      ]
    }
  ]
}